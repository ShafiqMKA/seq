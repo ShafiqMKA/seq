{
 "cells": [
  {
   "cell_type": "code",
   "execution_count": 5,
   "metadata": {},
   "outputs": [],
   "source": [
    "input_file = \"./one2.txt\"\n"
   ]
  },
  {
   "cell_type": "code",
   "execution_count": 6,
   "metadata": {},
   "outputs": [],
   "source": [
    "output_file = \"./out_plx12.txt\""
   ]
  },
  {
   "cell_type": "code",
   "execution_count": 7,
   "metadata": {},
   "outputs": [],
   "source": [
    "#def reorder_fasta(input_file, output_file):\n",
    "with open(input_file, 'r') as f, open(output_file, 'w') as out:\n",
    "    for line in f:\n",
    "        if line.startswith('>'):\n",
    "                gene_name = line.strip()\n",
    "        else:\n",
    "                sequence = line.strip('\\n')\n",
    "                out.write(sequence + ' ' + gene_name + '\\n')\n",
    "\n",
    "#reorder_fasta('sequences.fasta', 'reordered.fasta')"
   ]
  },
  {
   "cell_type": "code",
   "execution_count": null,
   "metadata": {},
   "outputs": [],
   "source": []
  }
 ],
 "metadata": {
  "kernelspec": {
   "display_name": "Python 3",
   "language": "python",
   "name": "python3"
  },
  "language_info": {
   "codemirror_mode": {
    "name": "ipython",
    "version": 3
   },
   "file_extension": ".py",
   "mimetype": "text/x-python",
   "name": "python",
   "nbconvert_exporter": "python",
   "pygments_lexer": "ipython3",
   "version": "3.11.3"
  }
 },
 "nbformat": 4,
 "nbformat_minor": 2
}
